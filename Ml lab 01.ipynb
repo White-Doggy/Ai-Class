{
 "cells": [
  {
   "cell_type": "code",
   "execution_count": 10,
   "metadata": {},
   "outputs": [
    {
     "name": "stdout",
     "output_type": "stream",
     "text": [
      "b'Hello, Tensorflow!'\n",
      "sess.run(node3):  7.0\n",
      "7.5\n",
      "[3. 7.]\n"
     ]
    }
   ],
   "source": [
    "import tensorflow.compat.v1 as tf\n",
    "tf.disable_v2_behavior()\n",
    "# 텐서플로 2.0으로 넘어오며, session api는 제거되었다.\n",
    "# 구강의를 수강하기 위해 1.0이 동작하도록 import 해줘야 한다...\n",
    "\n",
    "hello = tf.constant(\"Hello, Tensorflow!\")\n",
    "sess = tf.Session()\n",
    "print(sess.run(hello))\n",
    "\n",
    "\n",
    "# 노드를 생성해 그래프를 만들고, Session을 통해 실행하여 결과를 반환\n",
    "\n",
    "node1 = tf.constant(3.0, tf.float32)\n",
    "node2 = tf.constant(4.0)\n",
    "node3 = tf.add(node1, node2)\n",
    "\n",
    "print(\"sess.run(node3): \", sess.run(node3))\n",
    "\n",
    "\n",
    "# placeholder == feed_dict를 통해 input 값을 넘겨줄 수 있다.\n",
    "a = tf.placeholder(tf.float32)\n",
    "b = tf.placeholder(tf.float32)\n",
    "adder_node = a + b\n",
    "\n",
    "print(sess.run(adder_node, feed_dict={a: 3, b:4.5}))\n",
    "print(sess.run(adder_node, feed_dict={a: [1,3], b:[2,4]}))\n",
    "\n",
    "# Rank, Shape, type\n",
    "# 깊이, 다차원, 형식의 구분 언어\n"
   ]
  },
  {
   "cell_type": "code",
   "execution_count": null,
   "metadata": {},
   "outputs": [],
   "source": []
  },
  {
   "cell_type": "code",
   "execution_count": null,
   "metadata": {},
   "outputs": [],
   "source": []
  },
  {
   "cell_type": "code",
   "execution_count": null,
   "metadata": {},
   "outputs": [],
   "source": []
  },
  {
   "cell_type": "code",
   "execution_count": null,
   "metadata": {},
   "outputs": [],
   "source": []
  }
 ],
 "metadata": {
  "kernelspec": {
   "display_name": "Python 3",
   "language": "python",
   "name": "python3"
  },
  "language_info": {
   "codemirror_mode": {
    "name": "ipython",
    "version": 3
   },
   "file_extension": ".py",
   "mimetype": "text/x-python",
   "name": "python",
   "nbconvert_exporter": "python",
   "pygments_lexer": "ipython3",
   "version": "3.7.6"
  }
 },
 "nbformat": 4,
 "nbformat_minor": 4
}
